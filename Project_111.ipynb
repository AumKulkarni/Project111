{
  "nbformat": 4,
  "nbformat_minor": 0,
  "metadata": {
    "colab": {
      "provenance": [],
      "authorship_tag": "ABX9TyNzKUi1FZI4+jpbOBvwC94m",
      "include_colab_link": true
    },
    "kernelspec": {
      "name": "python3",
      "display_name": "Python 3"
    },
    "language_info": {
      "name": "python"
    }
  },
  "cells": [
    {
      "cell_type": "markdown",
      "metadata": {
        "id": "view-in-github",
        "colab_type": "text"
      },
      "source": [
        "<a href=\"https://colab.research.google.com/github/AumKulkarni/Project111/blob/main/Project_111.ipynb\" target=\"_parent\"><img src=\"https://colab.research.google.com/assets/colab-badge.svg\" alt=\"Open In Colab\"/></a>"
      ]
    },
    {
      "cell_type": "code",
      "execution_count": 1,
      "metadata": {
        "colab": {
          "base_uri": "https://localhost:8080/",
          "height": 73
        },
        "id": "k5H10duVvxUz",
        "outputId": "94934adb-59c9-4415-8b0a-e42e086b8821"
      },
      "outputs": [
        {
          "output_type": "display_data",
          "data": {
            "text/plain": [
              "<IPython.core.display.HTML object>"
            ],
            "text/html": [
              "\n",
              "     <input type=\"file\" id=\"files-bb1f2362-1d78-43ae-b71a-6a3391c99d18\" name=\"files[]\" multiple disabled\n",
              "        style=\"border:none\" />\n",
              "     <output id=\"result-bb1f2362-1d78-43ae-b71a-6a3391c99d18\">\n",
              "      Upload widget is only available when the cell has been executed in the\n",
              "      current browser session. Please rerun this cell to enable.\n",
              "      </output>\n",
              "      <script>// Copyright 2017 Google LLC\n",
              "//\n",
              "// Licensed under the Apache License, Version 2.0 (the \"License\");\n",
              "// you may not use this file except in compliance with the License.\n",
              "// You may obtain a copy of the License at\n",
              "//\n",
              "//      http://www.apache.org/licenses/LICENSE-2.0\n",
              "//\n",
              "// Unless required by applicable law or agreed to in writing, software\n",
              "// distributed under the License is distributed on an \"AS IS\" BASIS,\n",
              "// WITHOUT WARRANTIES OR CONDITIONS OF ANY KIND, either express or implied.\n",
              "// See the License for the specific language governing permissions and\n",
              "// limitations under the License.\n",
              "\n",
              "/**\n",
              " * @fileoverview Helpers for google.colab Python module.\n",
              " */\n",
              "(function(scope) {\n",
              "function span(text, styleAttributes = {}) {\n",
              "  const element = document.createElement('span');\n",
              "  element.textContent = text;\n",
              "  for (const key of Object.keys(styleAttributes)) {\n",
              "    element.style[key] = styleAttributes[key];\n",
              "  }\n",
              "  return element;\n",
              "}\n",
              "\n",
              "// Max number of bytes which will be uploaded at a time.\n",
              "const MAX_PAYLOAD_SIZE = 100 * 1024;\n",
              "\n",
              "function _uploadFiles(inputId, outputId) {\n",
              "  const steps = uploadFilesStep(inputId, outputId);\n",
              "  const outputElement = document.getElementById(outputId);\n",
              "  // Cache steps on the outputElement to make it available for the next call\n",
              "  // to uploadFilesContinue from Python.\n",
              "  outputElement.steps = steps;\n",
              "\n",
              "  return _uploadFilesContinue(outputId);\n",
              "}\n",
              "\n",
              "// This is roughly an async generator (not supported in the browser yet),\n",
              "// where there are multiple asynchronous steps and the Python side is going\n",
              "// to poll for completion of each step.\n",
              "// This uses a Promise to block the python side on completion of each step,\n",
              "// then passes the result of the previous step as the input to the next step.\n",
              "function _uploadFilesContinue(outputId) {\n",
              "  const outputElement = document.getElementById(outputId);\n",
              "  const steps = outputElement.steps;\n",
              "\n",
              "  const next = steps.next(outputElement.lastPromiseValue);\n",
              "  return Promise.resolve(next.value.promise).then((value) => {\n",
              "    // Cache the last promise value to make it available to the next\n",
              "    // step of the generator.\n",
              "    outputElement.lastPromiseValue = value;\n",
              "    return next.value.response;\n",
              "  });\n",
              "}\n",
              "\n",
              "/**\n",
              " * Generator function which is called between each async step of the upload\n",
              " * process.\n",
              " * @param {string} inputId Element ID of the input file picker element.\n",
              " * @param {string} outputId Element ID of the output display.\n",
              " * @return {!Iterable<!Object>} Iterable of next steps.\n",
              " */\n",
              "function* uploadFilesStep(inputId, outputId) {\n",
              "  const inputElement = document.getElementById(inputId);\n",
              "  inputElement.disabled = false;\n",
              "\n",
              "  const outputElement = document.getElementById(outputId);\n",
              "  outputElement.innerHTML = '';\n",
              "\n",
              "  const pickedPromise = new Promise((resolve) => {\n",
              "    inputElement.addEventListener('change', (e) => {\n",
              "      resolve(e.target.files);\n",
              "    });\n",
              "  });\n",
              "\n",
              "  const cancel = document.createElement('button');\n",
              "  inputElement.parentElement.appendChild(cancel);\n",
              "  cancel.textContent = 'Cancel upload';\n",
              "  const cancelPromise = new Promise((resolve) => {\n",
              "    cancel.onclick = () => {\n",
              "      resolve(null);\n",
              "    };\n",
              "  });\n",
              "\n",
              "  // Wait for the user to pick the files.\n",
              "  const files = yield {\n",
              "    promise: Promise.race([pickedPromise, cancelPromise]),\n",
              "    response: {\n",
              "      action: 'starting',\n",
              "    }\n",
              "  };\n",
              "\n",
              "  cancel.remove();\n",
              "\n",
              "  // Disable the input element since further picks are not allowed.\n",
              "  inputElement.disabled = true;\n",
              "\n",
              "  if (!files) {\n",
              "    return {\n",
              "      response: {\n",
              "        action: 'complete',\n",
              "      }\n",
              "    };\n",
              "  }\n",
              "\n",
              "  for (const file of files) {\n",
              "    const li = document.createElement('li');\n",
              "    li.append(span(file.name, {fontWeight: 'bold'}));\n",
              "    li.append(span(\n",
              "        `(${file.type || 'n/a'}) - ${file.size} bytes, ` +\n",
              "        `last modified: ${\n",
              "            file.lastModifiedDate ? file.lastModifiedDate.toLocaleDateString() :\n",
              "                                    'n/a'} - `));\n",
              "    const percent = span('0% done');\n",
              "    li.appendChild(percent);\n",
              "\n",
              "    outputElement.appendChild(li);\n",
              "\n",
              "    const fileDataPromise = new Promise((resolve) => {\n",
              "      const reader = new FileReader();\n",
              "      reader.onload = (e) => {\n",
              "        resolve(e.target.result);\n",
              "      };\n",
              "      reader.readAsArrayBuffer(file);\n",
              "    });\n",
              "    // Wait for the data to be ready.\n",
              "    let fileData = yield {\n",
              "      promise: fileDataPromise,\n",
              "      response: {\n",
              "        action: 'continue',\n",
              "      }\n",
              "    };\n",
              "\n",
              "    // Use a chunked sending to avoid message size limits. See b/62115660.\n",
              "    let position = 0;\n",
              "    do {\n",
              "      const length = Math.min(fileData.byteLength - position, MAX_PAYLOAD_SIZE);\n",
              "      const chunk = new Uint8Array(fileData, position, length);\n",
              "      position += length;\n",
              "\n",
              "      const base64 = btoa(String.fromCharCode.apply(null, chunk));\n",
              "      yield {\n",
              "        response: {\n",
              "          action: 'append',\n",
              "          file: file.name,\n",
              "          data: base64,\n",
              "        },\n",
              "      };\n",
              "\n",
              "      let percentDone = fileData.byteLength === 0 ?\n",
              "          100 :\n",
              "          Math.round((position / fileData.byteLength) * 100);\n",
              "      percent.textContent = `${percentDone}% done`;\n",
              "\n",
              "    } while (position < fileData.byteLength);\n",
              "  }\n",
              "\n",
              "  // All done.\n",
              "  yield {\n",
              "    response: {\n",
              "      action: 'complete',\n",
              "    }\n",
              "  };\n",
              "}\n",
              "\n",
              "scope.google = scope.google || {};\n",
              "scope.google.colab = scope.google.colab || {};\n",
              "scope.google.colab._files = {\n",
              "  _uploadFiles,\n",
              "  _uploadFilesContinue,\n",
              "};\n",
              "})(self);\n",
              "</script> "
            ]
          },
          "metadata": {}
        },
        {
          "output_type": "stream",
          "name": "stdout",
          "text": [
            "Saving medium_data.csv to medium_data.csv\n"
          ]
        }
      ],
      "source": [
        "from google.colab import files\n",
        "data_to_load=files.upload()"
      ]
    },
    {
      "cell_type": "code",
      "source": [
        "import plotly.express as px\n",
        "import plotly.graph_objects as go\n",
        "import plotly.figure_factory as ff\n",
        "import pandas as pd\n",
        "import csv\n",
        "\n",
        "\n",
        "\n"
      ],
      "metadata": {
        "id": "y-QdheS7wZXP"
      },
      "execution_count": 2,
      "outputs": []
    },
    {
      "cell_type": "code",
      "source": [
        "import statistics\n",
        "df=pd.read_csv(\"medium_data.csv\")\n",
        "data=df[\"reading_time\"].tolist()\n",
        "mean = statistics.mean(data)\n",
        "std_deviation=statistics.stdev(data)\n",
        "\n",
        "print(\"Mean of data:\",mean)\n",
        "print(\"SD of data\",std_deviation)"
      ],
      "metadata": {
        "colab": {
          "base_uri": "https://localhost:8080/"
        },
        "id": "pH2etKWu1pp-",
        "outputId": "5a619337-8c2b-4537-928c-2cdb541ac17d"
      },
      "execution_count": 3,
      "outputs": [
        {
          "output_type": "stream",
          "name": "stdout",
          "text": [
            "Mean of data: 6.134910878918254\n",
            "SD of data 3.231918486419477\n"
          ]
        }
      ]
    },
    {
      "cell_type": "code",
      "source": [
        "import random\n",
        "\n",
        "def random_set_of_mean(counter):\n",
        "  dataset=[]\n",
        "  for i in range(0,counter):\n",
        "    random_index=random.randint(0,len(data)-1)\n",
        "    value=data[random_index]\n",
        "    dataset.append(value)\n",
        "  mean=statistics.mean(dataset)\n",
        "  return mean\n",
        "\n",
        "mean_list=[]\n",
        "\n",
        "for i in range(0,30):\n",
        "  set_of_means=random_set_of_mean(100)\n",
        "  mean_list.append(set_of_means)\n",
        "\n",
        "\n",
        "mean=statistics.mean(mean_list)\n",
        "\n",
        "print(\"mean of the sample:\",mean)"
      ],
      "metadata": {
        "colab": {
          "base_uri": "https://localhost:8080/"
        },
        "id": "eWt0AqawjAJC",
        "outputId": "64f28ac0-0f07-485b-e509-dc058621576c"
      },
      "execution_count": 4,
      "outputs": [
        {
          "output_type": "stream",
          "name": "stdout",
          "text": [
            "mean of the sample: 6.070333333333333\n"
          ]
        }
      ]
    },
    {
      "cell_type": "code",
      "source": [
        "def setup():\n",
        "    mean_list=[]\n",
        "    for i in range(0,100):\n",
        "        set_of_means=random_set_of_mean(30)\n",
        "        mean_list.append(set_of_means)\n",
        "    show_fig(mean_list)"
      ],
      "metadata": {
        "id": "CNY9LVq1ksa_"
      },
      "execution_count": 5,
      "outputs": []
    },
    {
      "cell_type": "code",
      "source": [
        "std_deviation=statistics.stdev(mean_list)\n",
        "mean=statistics.mean(mean_list)\n",
        "\n",
        "print(\"mean of the sample:\",mean)\n",
        "print(\"SD of sample:\",std_deviation)\n",
        "\n",
        "fig=ff.create_distplot([mean_list],[\"temp\"], show_hist=False)\n",
        "\n",
        "fig.add_trace(go.Scatter(x=[mean,mean], y=[0,0.20],mode=\"lines\", name=\"MEAN\"))\n",
        "\n",
        "fig.show()"
      ],
      "metadata": {
        "colab": {
          "base_uri": "https://localhost:8080/",
          "height": 577
        },
        "id": "wrTMRnkGoj6B",
        "outputId": "07fc7361-826e-449d-ec6a-d5d061b0d594"
      },
      "execution_count": 6,
      "outputs": [
        {
          "output_type": "stream",
          "name": "stdout",
          "text": [
            "mean of the sample: 6.070333333333333\n",
            "SD of sample: 0.29407345239293337\n"
          ]
        },
        {
          "output_type": "display_data",
          "data": {
            "text/html": [
              "<html>\n",
              "<head><meta charset=\"utf-8\" /></head>\n",
              "<body>\n",
              "    <div>            <script src=\"https://cdnjs.cloudflare.com/ajax/libs/mathjax/2.7.5/MathJax.js?config=TeX-AMS-MML_SVG\"></script><script type=\"text/javascript\">if (window.MathJax && window.MathJax.Hub && window.MathJax.Hub.Config) {window.MathJax.Hub.Config({SVG: {font: \"STIX-Web\"}});}</script>                <script type=\"text/javascript\">window.PlotlyConfig = {MathJaxConfig: 'local'};</script>\n",
              "        <script src=\"https://cdn.plot.ly/plotly-2.18.2.min.js\"></script>                <div id=\"e8d51a02-7841-47e9-be65-79073d24b1c5\" class=\"plotly-graph-div\" style=\"height:525px; width:100%;\"></div>            <script type=\"text/javascript\">                                    window.PLOTLYENV=window.PLOTLYENV || {};                                    if (document.getElementById(\"e8d51a02-7841-47e9-be65-79073d24b1c5\")) {                    Plotly.newPlot(                        \"e8d51a02-7841-47e9-be65-79073d24b1c5\",                        [{\"legendgroup\":\"temp\",\"marker\":{\"color\":\"rgb(31, 119, 180)\"},\"mode\":\"lines\",\"name\":\"temp\",\"showlegend\":true,\"x\":[5.39,5.39236,5.3947199999999995,5.39708,5.399439999999999,5.4018,5.40416,5.4065199999999995,5.40888,5.411239999999999,5.4136,5.41596,5.41832,5.42068,5.423039999999999,5.4254,5.42776,5.43012,5.43248,5.4348399999999994,5.4372,5.439559999999999,5.44192,5.44428,5.4466399999999995,5.449,5.451359999999999,5.45372,5.45608,5.4584399999999995,5.4608,5.463159999999999,5.46552,5.46788,5.4702399999999995,5.4726,5.474959999999999,5.47732,5.47968,5.48204,5.4844,5.486759999999999,5.48912,5.49148,5.49384,5.4962,5.4985599999999994,5.50092,5.50328,5.50564,5.508,5.5103599999999995,5.51272,5.515079999999999,5.51744,5.5198,5.5221599999999995,5.52452,5.526879999999999,5.52924,5.5316,5.5339599999999995,5.53632,5.538679999999999,5.54104,5.5434,5.54576,5.54812,5.550479999999999,5.55284,5.5552,5.55756,5.55992,5.5622799999999994,5.56464,5.567,5.56936,5.57172,5.5740799999999995,5.57644,5.5788,5.58116,5.58352,5.5858799999999995,5.58824,5.5906,5.59296,5.59532,5.5976799999999995,5.60004,5.602399999999999,5.60476,5.60712,5.60948,5.61184,5.614199999999999,5.61656,5.61892,5.62128,5.62364,5.6259999999999994,5.62836,5.63072,5.63308,5.63544,5.6377999999999995,5.64016,5.64252,5.64488,5.64724,5.6495999999999995,5.65196,5.65432,5.65668,5.65904,5.6613999999999995,5.66376,5.666119999999999,5.66848,5.67084,5.6732,5.67556,5.677919999999999,5.68028,5.68264,5.685,5.68736,5.6897199999999994,5.69208,5.69444,5.6968,5.69916,5.7015199999999995,5.70388,5.70624,5.7086,5.71096,5.7133199999999995,5.71568,5.71804,5.7204,5.72276,5.7251199999999995,5.72748,5.729839999999999,5.7322,5.73456,5.73692,5.73928,5.74164,5.744,5.74636,5.74872,5.75108,5.753439999999999,5.7558,5.75816,5.76052,5.76288,5.7652399999999995,5.7676,5.76996,5.77232,5.77468,5.7770399999999995,5.7794,5.78176,5.78412,5.78648,5.7888399999999995,5.7912,5.79356,5.79592,5.79828,5.80064,5.803,5.80536,5.80772,5.81008,5.81244,5.8148,5.817159999999999,5.81952,5.82188,5.82424,5.8266,5.8289599999999995,5.83132,5.83368,5.83604,5.8384,5.8407599999999995,5.84312,5.84548,5.84784,5.8502,5.8525599999999995,5.85492,5.85728,5.85964,5.862,5.86436,5.86672,5.86908,5.87144,5.8738,5.87616,5.87852,5.880879999999999,5.88324,5.8856,5.88796,5.89032,5.89268,5.89504,5.8974,5.89976,5.90212,5.9044799999999995,5.90684,5.9092,5.91156,5.91392,5.91628,5.91864,5.921,5.92336,5.92572,5.92808,5.93044,5.9328,5.93516,5.93752,5.9398800000000005,5.94224,5.944599999999999,5.94696,5.94932,5.95168,5.95404,5.9564,5.95876,5.96112,5.96348,5.96584,5.9681999999999995,5.97056,5.97292,5.97528,5.97764,5.98,5.98236,5.98472,5.98708,5.98944,5.9918,5.99416,5.99652,5.99888,6.00124,6.0036000000000005,6.00596,6.00832,6.01068,6.01304,6.0154,6.01776,6.02012,6.02248,6.02484,6.0272,6.02956,6.0319199999999995,6.03428,6.03664,6.039,6.04136,6.04372,6.04608,6.04844,6.0508,6.05316,6.05552,6.05788,6.06024,6.0626,6.06496,6.0673200000000005,6.06968,6.07204,6.0744,6.07676,6.07912,6.08148,6.08384,6.0862,6.08856,6.090920000000001,6.09328,6.09564,6.098,6.10036,6.10272,6.10508,6.10744,6.1098,6.11216,6.11452,6.11688,6.11924,6.1216,6.12396,6.12632,6.12868,6.1310400000000005,6.1334,6.13576,6.13812,6.14048,6.14284,6.1452,6.14756,6.14992,6.15228,6.1546400000000006,6.157,6.15936,6.16172,6.16408,6.16644,6.1688,6.17116,6.17352,6.17588,6.17824,6.1806,6.18296,6.18532,6.18768,6.19004,6.1924,6.1947600000000005,6.19712,6.19948,6.20184,6.2042,6.20656,6.20892,6.21128,6.21364,6.216,6.2183600000000006,6.22072,6.22308,6.22544,6.2278,6.23016,6.23252,6.23488,6.23724,6.2396,6.241960000000001,6.24432,6.2466800000000005,6.24904,6.2514,6.25376,6.25612,6.2584800000000005,6.26084,6.2632,6.26556,6.26792,6.27028,6.27264,6.275,6.27736,6.27972,6.2820800000000006,6.28444,6.2868,6.28916,6.29152,6.29388,6.29624,6.2986,6.30096,6.30332,6.305680000000001,6.30804,6.3104000000000005,6.31276,6.31512,6.31748,6.31984,6.3222000000000005,6.32456,6.32692,6.32928,6.33164,6.3340000000000005,6.33636,6.33872,6.34108,6.34344,6.3458000000000006,6.34816,6.35052,6.35288,6.35524,6.3576,6.35996,6.36232,6.36468,6.36704,6.369400000000001,6.37176,6.3741200000000005,6.37648,6.37884,6.3812,6.38356,6.3859200000000005,6.38828,6.39064,6.393000000000001,6.39536,6.39772,6.40008,6.40244,6.4048,6.40716,6.4095200000000006,6.41188,6.41424,6.416600000000001,6.41896,6.421320000000001,6.42368,6.42604,6.4284,6.43076,6.433120000000001,6.43548,6.4378400000000005,6.4402,6.44256,6.44492,6.44728,6.4496400000000005,6.452,6.45436,6.456720000000001,6.45908,6.4614400000000005,6.4638,6.46616,6.46852,6.47088,6.4732400000000005,6.4756,6.47796,6.480320000000001,6.48268,6.485040000000001,6.4874,6.48976,6.49212,6.49448,6.496840000000001,6.4992,6.5015600000000004,6.50392,6.50628,6.50864,6.511,6.5133600000000005,6.51572,6.51808,6.520440000000001,6.5228,6.5251600000000005,6.527520000000001,6.52988,6.53224,6.5346,6.5369600000000005,6.53932,6.54168,6.544040000000001,6.5464,6.548760000000001,6.55112,6.55348,6.55584,6.5582,6.560560000000001,6.56292,6.5652800000000004,6.56764],\"xaxis\":\"x\",\"y\":[0.2230123912931017,0.2254265467635715,0.22784190481222638,0.23025829494153768,0.23267555445182064,0.23509352837757258,0.2375120694054575,0.23993103777420788,0.24235030115665707,0.2447697345242312,0.24718921999425156,0.249608646660427,0.2520279104070182,0.25444691370712585,0.25686556540566124,0.2592837804875701,0.26170147983193265,0.26411858995260096,0.26653504272608014,0.268950775107392,0.27136572883470417,0.2737798501235382,0.27619308935140874,0.27860540073377454,0.28101674199221544,0.28342707401577827,0.28583636051645783,0.28824456767980833,0.29065166381169905,0.2930576189822501,0.29546240466800106,0.29786599339337977,0.3002683583725522,0.30266947315274595,0.30506931126013703,0.3074678458494243,0.3098650493581639,0.31226089316699956,0.31465534726687533,0.317048379934322,0.31943995741592907,0.3218300436230341,0.32421859983774776,0.326605584431306,0.3289909525958079,0.33137465609034633,0.3337566430024712,0.3361368575259986,0.33851523975602055,0.3408917255020673,0.3432662461202363,0.3456387283651133,0.3480090942622942,0.3503772610021934,0.3527431408558967,0.35510664111364054,0.35746766404658287,0.35982610689237693,0.3621818618650533,0.36453481618969547,0.3668848521622476,0.3692318472348527,0.37157567412696185,0.37391620096246414,0.376253291433003,0.3785868049875679,0.3809165970484457,0.38324251925348296,0.38556441972460614,0.38788214336245835,0.3901955321669555,0.39250442558350224,0.39480866087454786,0.3971080735160983,0.3994024976187411,0.4016917663726785,0.4039757125162014,0.40625416882698373,0.40852696863550975,0.4107939463598958,0.41305493806130833,0.4153097820191192,0.4175583193249113,0.41980039449433937,0.42203585609587024,0.42426455739532276,0.42648635701509774,0.42870111960696494,0.4309087165371684,0.43310902658266326,0.43530193663715233,0.43748734242564236,0.43966514922614847,0.4418352725971619,0.443997639109482,0.4461521870809288,0.44829886731252083,0.45043764382456725,0.4525684945911993,0.45469141227180476,0.4568064049377854,0.45891349679313187,0.46101272888718753,0.4631041598180746,0.46518786642517196,0.46726394446905983,0.46933250929738207,0.47139369649499896,0.4734476625169108,0.47549458530235045,0.4775346648685186,0.4795681238824241,0.4815952082092968,0.48361618743610846,0.48563135536869667,0.48764103050106233,0.48964555645541824,0.4916453023915985,0.4936406633844795,0.49563206076807853,0.49761994244507524,0.49960478316049056,0.5015870847383398,0.5035673762801048,0.5055462143239224,0.5075241829634323,0.5095018939252849,0.5114799866043556,0.5134591280557796,0.5154400129429659,0.5174233634408163,0.5194099290934391,0.5214004866257009,0.5233958397080354,0.5253968186739857,0.5274042801900253,0.5294191068772923,0.5314422068848929,0.5334745134145662,0.5355169841965237,0.5375706009163717,0.539636368593116,0.5417153149082696,0.5438084894862478,0.5459169631262143,0.5480418269857029,0.5501841917163707,0.5523451865523231,0.5545259583515688,0.5567276705911617,0.5589515023167743,0.5611986470474319,0.5634703116362564,0.5657677150881817,0.5680920873355919,0.570444667973031,0.5728267049520817,0.5752394532377209,0.5776841734274183,0.5801621303344022,0.5826745915365603,0.5852228258924971,0.5878081020264081,0.590431686783414,0.5930948436571435,0.5957988311913768,0.5985449013576518,0.6013342979107813,0.604168254724308,0.607047994107975,0.6099747251093487,0.6129496418017861,0.6159739215609964,0.6190487233324868,0.6221751858922409,0.62535442610301,0.6285875371686511,0.6318755868889732,0.6352196159175867,0.6386206360252953,0.6420796283715794,0.645597541786749,0.6491752910673727,0.6528137552875877,0.6565137761289128,0.6602761562312227,0.6641016575674655,0.6679909998448069,0.671944858934797,0.6759638653351685,0.6800486026659068,0.6841996062020856,0.6884173614461286,0.6927023027419128,0.6970548119332656,0.7014752170693022,0.7059637911589375,0.7105207509770324,0.715146255924347,0.7198404069436528,0.7246032454941064,0.729434752585977,0.7343348478778509,0.7393033888381226,0.7443401699727801,0.7494449221211603,0.7546173118214128,0.7598569407472596,0.7651633452174983,0.770535995779722,0.7759742968694067,0.7814775865456643,0.7870451363046016,0.7926761509712723,0.7983697686710108,0.804125060880826,0.8099410325614157,0.8158166223702146,0.8217507029557717,0.8277420813336124,0.833789499343594,0.8398916341886474,0.8460470990546393,0.8522544438109572,0.8585121557912674,0.8648186606538169,0.8711723233203654,0.8775714489928867,0.884014284246878,0.8904990182000615,0.8970237837551064,0.9035866589148336,0.9101856681683289,0.9168187839460911,0.923483928142387,0.9301789737027978,0.9369017462747135,0.9436500259186217,0.950421548877716,0.9572140094034256,0.9640250616341538,0.9708523215246192,0.9776933688230015,0.9845457490929097,0.9914069757773639,0.9982745323015602,1.005145874211481,1.0120184313450027,1.0188896100323475,1.0257567953225901,1.032617353232764,1.039468633016324,1.0463079694474322,1.0531326851176772,1.059940092741769,1.0667274974686738,1.073492199194836,1.0802314948758511,1.086942680833298,1.0936230550531665,1.1002699194725276,1.1068805822510583,1.113452360024077,1.1199825801338095,1.1264685828356527,1.132907723476269,1.139297374640415,1.1456349282634812,1.1519177977068138,1.158143419792963,1.1643092567981115,1.170412798399035,1.1764515635720527,1.1824231024415315,1.1883249980756478,1.1941548682272012,1.1999103670174271,1.2055891865608799,1.2111890585295648,1.2167077556547192,1.2221430931646322,1.227492930157218,1.2327551709060551,1.2379277660988357,1.2430087140072796,1.247996061587721,1.2528879055117788,1.2576823931265464,1.2623777233440425,1.2669721474597189,1.2714639698999395,1.2758515488986417,1.2801332971033177,1.2843076821108361,1.2883732269335366,1.2923285103963476,1.2961721674657274,1.2999028895113232,1.3035194245014872,1.3070205771337906,1.3104052089018583,1.31367223809996,1.3168206397668423,1.3198494455705072,1.3227577436355658,1.3255446783150786,1.3282094499087056,1.3307513143291918,1.3331695827192198,1.3354636210207254,1.3376328494988925,1.3396767422229856,1.341594826506346,1.343386682307804,1.3450519415968725,1.346590287685055,1.3480014545256458,1.3492852259844008,1.350441435083455,1.3514699632208649,1.3523707393681357,1.3531437392480778,1.3537889844953137,1.35430654180172,1.3546965220490563,1.3549590794309903,1.3550944105666678,1.3551027536079416,1.3549843873422929,1.3547396302934318,1.3543688398214693,1.3538724112245244,1.353250776843488,1.352504405171635,1.351633799970689,1.3506394993948025,1.3495220751239003,1.348282131507676,1.3469203047214733,1.3454372619351778,1.3438337004961263,1.3421103471269817,1.3402679571393812,1.338307313664076,1.3362292268982139,1.334034533370241,1.331724095222903,1.3292987995146057,1.3267595575394304,1.3241073041658764,1.3213429971944086,1.3184676167337586,1.3154821645958104,1.3123876637088767,1.3091851575490592,1.3058757095892846,1.3024604027655886,1.2989403389600895,1.2953166385000963,1.291590439672632,1.2877628982537237,1.2838351870516453,1.279808495463306,1.27568402904294,1.2714630090821675,1.267146672200525,1.2627362699454834,1.2582330684009695,1.2536383478033986,1.2489534021641895,1.244179538897743,1.239318078453852,1.234370353953519,1.229337710827166,1.224221506454214,1.2190231098030586,1.2137439010704612,1.2083852713194052,1.2029486221145174,1.1974353651541632,1.191846921898343,1.1861847231916676,1.1804502088805369,1.174644827423928,1.1687700354970463,1.162827297587277,1.156818085581894,1.1507438783469675,1.144606161297173,1.138406425955978,1.1321461695060049,1.12582689432934,1.1194501075375054,1.1130173204911509,1.106530048309254,1.0999898093680234,1.0933981247894589,1.0867565179198124,1.0800665137981929,1.0733296386154976,1.0665474191641904,1.0597213822791791,1.052853054270405,1.0459439603476017,1.0389956240378384,1.0320095665965414,1.0249873064125932,1.017930358408368,1.0108402334354298,1.0037184376667458,0.9965664719863124,0.9893858313770567,0.9821780043080505,0.9749444721218847,0.9676867084233223,0.9604061784701807,0.9531043385675121,0.9457826354661182,0.9384425057664785,0.9310853753291479,0.9237126586927031,0.9163257585002987,0.9089260649359071,0.9015149551712831,0.8940937928247046,0.8866639274325,0.8792266939343936,0.8717834121735732,0.8643353864125484,0.8568839048655964,0.849430239248756,0.8419756443481873,0.8345213576077046,0.8270685987362679,0.819618569336076,0.8121724525520669,0.8047314127432783,0.7972965951767469,0.789869125744459,0.7824501107036865,0.7750406364412921,0.7676417692621368,0.7602545552020683,0.7528800198655303,0.7455191682880564,0.738172984823749,0.7308424330576544,0.7235284557431926,0.7162319747643375,0.7089538911226093,0.7016950849484679,0.6944564155369638,0.6872387214072986,0.6800428203858159,0.6728695097120898,0.6657195661675365,0.6585937462260195,0.651492786225841,0.6444174025624422,0.6373682919011803,0.6303461314093167,0.62335157900655,0.6163852736331852,0.6094478355351095,0.6025398665646615,0.5956619504964679,0.5888146533572864,0.5819985237688732,0.5752140933028604,0.5684618768466266,0.5617423729791101,0.5550560643555109,0.5484034180998195,0.5417848862040916,0.5352009059334012,0.5286519002353897,0.5221382781533369,0.5156604352416881,0.5092187539829743,0.5028136042050727,0.49644534349779684,0.4901143176277336,0.4838208609504467,0.47756529681893034,0.4713479379874677,0.46516908700994475,0.4590290366316918,0.45292807017404685,0.4468664619107392,0.4408444774354135,0.43486237401940775,0.4289204009591652,0.4230187999126005,0.41715780522369966,0.411337644234913,0.40555853758662647,0.39982069950338506,0.3941243380662625,0.3884696554710678,0.382856848272026],\"yaxis\":\"y\",\"type\":\"scatter\"},{\"legendgroup\":\"temp\",\"marker\":{\"color\":\"rgb(31, 119, 180)\",\"symbol\":\"line-ns-open\"},\"mode\":\"markers\",\"name\":\"temp\",\"showlegend\":false,\"x\":[6.27,6.12,6.04,6.47,6.1,6.31,5.77,6.57,5.62,6.05,6.36,5.66,6.01,6.26,6.25,6.31,6.23,6.07,6.33,6.11,5.39,5.48,5.85,6.19,6.15,5.87,6.48,5.7,6.03,6.06],\"xaxis\":\"x\",\"y\":[\"temp\",\"temp\",\"temp\",\"temp\",\"temp\",\"temp\",\"temp\",\"temp\",\"temp\",\"temp\",\"temp\",\"temp\",\"temp\",\"temp\",\"temp\",\"temp\",\"temp\",\"temp\",\"temp\",\"temp\",\"temp\",\"temp\",\"temp\",\"temp\",\"temp\",\"temp\",\"temp\",\"temp\",\"temp\",\"temp\"],\"yaxis\":\"y2\",\"type\":\"scatter\"},{\"mode\":\"lines\",\"name\":\"MEAN\",\"x\":[6.070333333333333,6.070333333333333],\"y\":[0,0.2],\"type\":\"scatter\"}],                        {\"barmode\":\"overlay\",\"hovermode\":\"closest\",\"legend\":{\"traceorder\":\"reversed\"},\"xaxis\":{\"anchor\":\"y2\",\"domain\":[0.0,1.0],\"zeroline\":false},\"yaxis\":{\"anchor\":\"free\",\"domain\":[0.35,1],\"position\":0.0},\"yaxis2\":{\"anchor\":\"x\",\"domain\":[0,0.25],\"dtick\":1,\"showticklabels\":false},\"template\":{\"data\":{\"histogram2dcontour\":[{\"type\":\"histogram2dcontour\",\"colorbar\":{\"outlinewidth\":0,\"ticks\":\"\"},\"colorscale\":[[0.0,\"#0d0887\"],[0.1111111111111111,\"#46039f\"],[0.2222222222222222,\"#7201a8\"],[0.3333333333333333,\"#9c179e\"],[0.4444444444444444,\"#bd3786\"],[0.5555555555555556,\"#d8576b\"],[0.6666666666666666,\"#ed7953\"],[0.7777777777777778,\"#fb9f3a\"],[0.8888888888888888,\"#fdca26\"],[1.0,\"#f0f921\"]]}],\"choropleth\":[{\"type\":\"choropleth\",\"colorbar\":{\"outlinewidth\":0,\"ticks\":\"\"}}],\"histogram2d\":[{\"type\":\"histogram2d\",\"colorbar\":{\"outlinewidth\":0,\"ticks\":\"\"},\"colorscale\":[[0.0,\"#0d0887\"],[0.1111111111111111,\"#46039f\"],[0.2222222222222222,\"#7201a8\"],[0.3333333333333333,\"#9c179e\"],[0.4444444444444444,\"#bd3786\"],[0.5555555555555556,\"#d8576b\"],[0.6666666666666666,\"#ed7953\"],[0.7777777777777778,\"#fb9f3a\"],[0.8888888888888888,\"#fdca26\"],[1.0,\"#f0f921\"]]}],\"heatmap\":[{\"type\":\"heatmap\",\"colorbar\":{\"outlinewidth\":0,\"ticks\":\"\"},\"colorscale\":[[0.0,\"#0d0887\"],[0.1111111111111111,\"#46039f\"],[0.2222222222222222,\"#7201a8\"],[0.3333333333333333,\"#9c179e\"],[0.4444444444444444,\"#bd3786\"],[0.5555555555555556,\"#d8576b\"],[0.6666666666666666,\"#ed7953\"],[0.7777777777777778,\"#fb9f3a\"],[0.8888888888888888,\"#fdca26\"],[1.0,\"#f0f921\"]]}],\"heatmapgl\":[{\"type\":\"heatmapgl\",\"colorbar\":{\"outlinewidth\":0,\"ticks\":\"\"},\"colorscale\":[[0.0,\"#0d0887\"],[0.1111111111111111,\"#46039f\"],[0.2222222222222222,\"#7201a8\"],[0.3333333333333333,\"#9c179e\"],[0.4444444444444444,\"#bd3786\"],[0.5555555555555556,\"#d8576b\"],[0.6666666666666666,\"#ed7953\"],[0.7777777777777778,\"#fb9f3a\"],[0.8888888888888888,\"#fdca26\"],[1.0,\"#f0f921\"]]}],\"contourcarpet\":[{\"type\":\"contourcarpet\",\"colorbar\":{\"outlinewidth\":0,\"ticks\":\"\"}}],\"contour\":[{\"type\":\"contour\",\"colorbar\":{\"outlinewidth\":0,\"ticks\":\"\"},\"colorscale\":[[0.0,\"#0d0887\"],[0.1111111111111111,\"#46039f\"],[0.2222222222222222,\"#7201a8\"],[0.3333333333333333,\"#9c179e\"],[0.4444444444444444,\"#bd3786\"],[0.5555555555555556,\"#d8576b\"],[0.6666666666666666,\"#ed7953\"],[0.7777777777777778,\"#fb9f3a\"],[0.8888888888888888,\"#fdca26\"],[1.0,\"#f0f921\"]]}],\"surface\":[{\"type\":\"surface\",\"colorbar\":{\"outlinewidth\":0,\"ticks\":\"\"},\"colorscale\":[[0.0,\"#0d0887\"],[0.1111111111111111,\"#46039f\"],[0.2222222222222222,\"#7201a8\"],[0.3333333333333333,\"#9c179e\"],[0.4444444444444444,\"#bd3786\"],[0.5555555555555556,\"#d8576b\"],[0.6666666666666666,\"#ed7953\"],[0.7777777777777778,\"#fb9f3a\"],[0.8888888888888888,\"#fdca26\"],[1.0,\"#f0f921\"]]}],\"mesh3d\":[{\"type\":\"mesh3d\",\"colorbar\":{\"outlinewidth\":0,\"ticks\":\"\"}}],\"scatter\":[{\"fillpattern\":{\"fillmode\":\"overlay\",\"size\":10,\"solidity\":0.2},\"type\":\"scatter\"}],\"parcoords\":[{\"type\":\"parcoords\",\"line\":{\"colorbar\":{\"outlinewidth\":0,\"ticks\":\"\"}}}],\"scatterpolargl\":[{\"type\":\"scatterpolargl\",\"marker\":{\"colorbar\":{\"outlinewidth\":0,\"ticks\":\"\"}}}],\"bar\":[{\"error_x\":{\"color\":\"#2a3f5f\"},\"error_y\":{\"color\":\"#2a3f5f\"},\"marker\":{\"line\":{\"color\":\"#E5ECF6\",\"width\":0.5},\"pattern\":{\"fillmode\":\"overlay\",\"size\":10,\"solidity\":0.2}},\"type\":\"bar\"}],\"scattergeo\":[{\"type\":\"scattergeo\",\"marker\":{\"colorbar\":{\"outlinewidth\":0,\"ticks\":\"\"}}}],\"scatterpolar\":[{\"type\":\"scatterpolar\",\"marker\":{\"colorbar\":{\"outlinewidth\":0,\"ticks\":\"\"}}}],\"histogram\":[{\"marker\":{\"pattern\":{\"fillmode\":\"overlay\",\"size\":10,\"solidity\":0.2}},\"type\":\"histogram\"}],\"scattergl\":[{\"type\":\"scattergl\",\"marker\":{\"colorbar\":{\"outlinewidth\":0,\"ticks\":\"\"}}}],\"scatter3d\":[{\"type\":\"scatter3d\",\"line\":{\"colorbar\":{\"outlinewidth\":0,\"ticks\":\"\"}},\"marker\":{\"colorbar\":{\"outlinewidth\":0,\"ticks\":\"\"}}}],\"scattermapbox\":[{\"type\":\"scattermapbox\",\"marker\":{\"colorbar\":{\"outlinewidth\":0,\"ticks\":\"\"}}}],\"scatterternary\":[{\"type\":\"scatterternary\",\"marker\":{\"colorbar\":{\"outlinewidth\":0,\"ticks\":\"\"}}}],\"scattercarpet\":[{\"type\":\"scattercarpet\",\"marker\":{\"colorbar\":{\"outlinewidth\":0,\"ticks\":\"\"}}}],\"carpet\":[{\"aaxis\":{\"endlinecolor\":\"#2a3f5f\",\"gridcolor\":\"white\",\"linecolor\":\"white\",\"minorgridcolor\":\"white\",\"startlinecolor\":\"#2a3f5f\"},\"baxis\":{\"endlinecolor\":\"#2a3f5f\",\"gridcolor\":\"white\",\"linecolor\":\"white\",\"minorgridcolor\":\"white\",\"startlinecolor\":\"#2a3f5f\"},\"type\":\"carpet\"}],\"table\":[{\"cells\":{\"fill\":{\"color\":\"#EBF0F8\"},\"line\":{\"color\":\"white\"}},\"header\":{\"fill\":{\"color\":\"#C8D4E3\"},\"line\":{\"color\":\"white\"}},\"type\":\"table\"}],\"barpolar\":[{\"marker\":{\"line\":{\"color\":\"#E5ECF6\",\"width\":0.5},\"pattern\":{\"fillmode\":\"overlay\",\"size\":10,\"solidity\":0.2}},\"type\":\"barpolar\"}],\"pie\":[{\"automargin\":true,\"type\":\"pie\"}]},\"layout\":{\"autotypenumbers\":\"strict\",\"colorway\":[\"#636efa\",\"#EF553B\",\"#00cc96\",\"#ab63fa\",\"#FFA15A\",\"#19d3f3\",\"#FF6692\",\"#B6E880\",\"#FF97FF\",\"#FECB52\"],\"font\":{\"color\":\"#2a3f5f\"},\"hovermode\":\"closest\",\"hoverlabel\":{\"align\":\"left\"},\"paper_bgcolor\":\"white\",\"plot_bgcolor\":\"#E5ECF6\",\"polar\":{\"bgcolor\":\"#E5ECF6\",\"angularaxis\":{\"gridcolor\":\"white\",\"linecolor\":\"white\",\"ticks\":\"\"},\"radialaxis\":{\"gridcolor\":\"white\",\"linecolor\":\"white\",\"ticks\":\"\"}},\"ternary\":{\"bgcolor\":\"#E5ECF6\",\"aaxis\":{\"gridcolor\":\"white\",\"linecolor\":\"white\",\"ticks\":\"\"},\"baxis\":{\"gridcolor\":\"white\",\"linecolor\":\"white\",\"ticks\":\"\"},\"caxis\":{\"gridcolor\":\"white\",\"linecolor\":\"white\",\"ticks\":\"\"}},\"coloraxis\":{\"colorbar\":{\"outlinewidth\":0,\"ticks\":\"\"}},\"colorscale\":{\"sequential\":[[0.0,\"#0d0887\"],[0.1111111111111111,\"#46039f\"],[0.2222222222222222,\"#7201a8\"],[0.3333333333333333,\"#9c179e\"],[0.4444444444444444,\"#bd3786\"],[0.5555555555555556,\"#d8576b\"],[0.6666666666666666,\"#ed7953\"],[0.7777777777777778,\"#fb9f3a\"],[0.8888888888888888,\"#fdca26\"],[1.0,\"#f0f921\"]],\"sequentialminus\":[[0.0,\"#0d0887\"],[0.1111111111111111,\"#46039f\"],[0.2222222222222222,\"#7201a8\"],[0.3333333333333333,\"#9c179e\"],[0.4444444444444444,\"#bd3786\"],[0.5555555555555556,\"#d8576b\"],[0.6666666666666666,\"#ed7953\"],[0.7777777777777778,\"#fb9f3a\"],[0.8888888888888888,\"#fdca26\"],[1.0,\"#f0f921\"]],\"diverging\":[[0,\"#8e0152\"],[0.1,\"#c51b7d\"],[0.2,\"#de77ae\"],[0.3,\"#f1b6da\"],[0.4,\"#fde0ef\"],[0.5,\"#f7f7f7\"],[0.6,\"#e6f5d0\"],[0.7,\"#b8e186\"],[0.8,\"#7fbc41\"],[0.9,\"#4d9221\"],[1,\"#276419\"]]},\"xaxis\":{\"gridcolor\":\"white\",\"linecolor\":\"white\",\"ticks\":\"\",\"title\":{\"standoff\":15},\"zerolinecolor\":\"white\",\"automargin\":true,\"zerolinewidth\":2},\"yaxis\":{\"gridcolor\":\"white\",\"linecolor\":\"white\",\"ticks\":\"\",\"title\":{\"standoff\":15},\"zerolinecolor\":\"white\",\"automargin\":true,\"zerolinewidth\":2},\"scene\":{\"xaxis\":{\"backgroundcolor\":\"#E5ECF6\",\"gridcolor\":\"white\",\"linecolor\":\"white\",\"showbackground\":true,\"ticks\":\"\",\"zerolinecolor\":\"white\",\"gridwidth\":2},\"yaxis\":{\"backgroundcolor\":\"#E5ECF6\",\"gridcolor\":\"white\",\"linecolor\":\"white\",\"showbackground\":true,\"ticks\":\"\",\"zerolinecolor\":\"white\",\"gridwidth\":2},\"zaxis\":{\"backgroundcolor\":\"#E5ECF6\",\"gridcolor\":\"white\",\"linecolor\":\"white\",\"showbackground\":true,\"ticks\":\"\",\"zerolinecolor\":\"white\",\"gridwidth\":2}},\"shapedefaults\":{\"line\":{\"color\":\"#2a3f5f\"}},\"annotationdefaults\":{\"arrowcolor\":\"#2a3f5f\",\"arrowhead\":0,\"arrowwidth\":1},\"geo\":{\"bgcolor\":\"white\",\"landcolor\":\"#E5ECF6\",\"subunitcolor\":\"white\",\"showland\":true,\"showlakes\":true,\"lakecolor\":\"white\"},\"title\":{\"x\":0.05},\"mapbox\":{\"style\":\"light\"}}}},                        {\"responsive\": true}                    ).then(function(){\n",
              "                            \n",
              "var gd = document.getElementById('e8d51a02-7841-47e9-be65-79073d24b1c5');\n",
              "var x = new MutationObserver(function (mutations, observer) {{\n",
              "        var display = window.getComputedStyle(gd).display;\n",
              "        if (!display || display === 'none') {{\n",
              "            console.log([gd, 'removed!']);\n",
              "            Plotly.purge(gd);\n",
              "            observer.disconnect();\n",
              "        }}\n",
              "}});\n",
              "\n",
              "// Listen for the removal of the full notebook cells\n",
              "var notebookContainer = gd.closest('#notebook-container');\n",
              "if (notebookContainer) {{\n",
              "    x.observe(notebookContainer, {childList: true});\n",
              "}}\n",
              "\n",
              "// Listen for the clearing of the current output cell\n",
              "var outputEl = gd.closest('.output');\n",
              "if (outputEl) {{\n",
              "    x.observe(outputEl, {childList: true});\n",
              "}}\n",
              "\n",
              "                        })                };                            </script>        </div>\n",
              "</body>\n",
              "</html>"
            ]
          },
          "metadata": {}
        }
      ]
    },
    {
      "cell_type": "code",
      "source": [
        "##finding the standard deviation starting and ending values\n",
        "first_std_deviation_start,first_std_deviation_end=mean-std_deviation,mean+std_deviation\n",
        "second_std_deviation_start,second_std_deviation_end=mean-(2*std_deviation),mean+(2*std_deviation)\n",
        "third_std_deviation_start,third_std_deviation_end=mean-(3*std_deviation),mean+(3*std_deviation)\n",
        "print(\"std1\",first_std_deviation_start,first_std_deviation_end)\n",
        "print(\"std2\",second_std_deviation_start,second_std_deviation_end)\n",
        "print(\"std3\",third_std_deviation_start,third_std_deviation_end)\n",
        "\n",
        "## plotting the graph with traces\n",
        "fig=ff.create_distplot([mean_list],[\"student marks\"],show_hist=False)\n",
        "fig.add_trace(go.Scatter(x=[mean,mean],y=[0,0.17],mode=\"lines\",name=\"MEAN\"))\n",
        "fig.add_trace(go.Scatter(x=[first_std_deviation_start,first_std_deviation_start],y=[0,0.17],mode=\"lines\",name=\"MEAN\"))\n",
        "fig.add_trace(go.Scatter(x=[first_std_deviation_end,first_std_deviation_end],y=[0,0.17],mode=\"lines\",name=\"MEAN\"))\n",
        "fig.add_trace(go.Scatter(x=[second_std_deviation_start,second_std_deviation_start],y=[0,0.17],mode=\"lines\",name=\"MEAN\"))\n",
        "fig.add_trace(go.Scatter(x=[second_std_deviation_end,second_std_deviation_end],y=[0,0.17],mode=\"lines\",name=\"MEAN\"))\n",
        "fig.add_trace(go.Scatter(x=[third_std_deviation_start,third_std_deviation_start],y=[0,0.17],mode=\"lines\",name=\"MEAN\"))\n",
        "fig.add_trace(go.Scatter(x=[third_std_deviation_end,third_std_deviation_end],y=[0,0.17],mode=\"lines\",name=\"MEAN\"))\n",
        "fig.show()\n",
        "\n",
        "\n",
        "\n",
        "\n"
      ],
      "metadata": {
        "colab": {
          "base_uri": "https://localhost:8080/",
          "height": 594
        },
        "id": "huTRTmsOpEEk",
        "outputId": "ff5d084a-bcf9-42e4-8068-f711a7ad1f48"
      },
      "execution_count": 7,
      "outputs": [
        {
          "output_type": "stream",
          "name": "stdout",
          "text": [
            "std1 5.776259880940399 6.364406785726267\n",
            "std2 5.482186428547466 6.6584802381192\n",
            "std3 5.1881129761545335 6.952553690512133\n"
          ]
        },
        {
          "output_type": "display_data",
          "data": {
            "text/html": [
              "<html>\n",
              "<head><meta charset=\"utf-8\" /></head>\n",
              "<body>\n",
              "    <div>            <script src=\"https://cdnjs.cloudflare.com/ajax/libs/mathjax/2.7.5/MathJax.js?config=TeX-AMS-MML_SVG\"></script><script type=\"text/javascript\">if (window.MathJax && window.MathJax.Hub && window.MathJax.Hub.Config) {window.MathJax.Hub.Config({SVG: {font: \"STIX-Web\"}});}</script>                <script type=\"text/javascript\">window.PlotlyConfig = {MathJaxConfig: 'local'};</script>\n",
              "        <script src=\"https://cdn.plot.ly/plotly-2.18.2.min.js\"></script>                <div id=\"a43d7934-89fc-41a0-833d-cd7f701ec42e\" class=\"plotly-graph-div\" style=\"height:525px; width:100%;\"></div>            <script type=\"text/javascript\">                                    window.PLOTLYENV=window.PLOTLYENV || {};                                    if (document.getElementById(\"a43d7934-89fc-41a0-833d-cd7f701ec42e\")) {                    Plotly.newPlot(                        \"a43d7934-89fc-41a0-833d-cd7f701ec42e\",                        [{\"legendgroup\":\"student marks\",\"marker\":{\"color\":\"rgb(31, 119, 180)\"},\"mode\":\"lines\",\"name\":\"student marks\",\"showlegend\":true,\"x\":[5.39,5.39236,5.3947199999999995,5.39708,5.399439999999999,5.4018,5.40416,5.4065199999999995,5.40888,5.411239999999999,5.4136,5.41596,5.41832,5.42068,5.423039999999999,5.4254,5.42776,5.43012,5.43248,5.4348399999999994,5.4372,5.439559999999999,5.44192,5.44428,5.4466399999999995,5.449,5.451359999999999,5.45372,5.45608,5.4584399999999995,5.4608,5.463159999999999,5.46552,5.46788,5.4702399999999995,5.4726,5.474959999999999,5.47732,5.47968,5.48204,5.4844,5.486759999999999,5.48912,5.49148,5.49384,5.4962,5.4985599999999994,5.50092,5.50328,5.50564,5.508,5.5103599999999995,5.51272,5.515079999999999,5.51744,5.5198,5.5221599999999995,5.52452,5.526879999999999,5.52924,5.5316,5.5339599999999995,5.53632,5.538679999999999,5.54104,5.5434,5.54576,5.54812,5.550479999999999,5.55284,5.5552,5.55756,5.55992,5.5622799999999994,5.56464,5.567,5.56936,5.57172,5.5740799999999995,5.57644,5.5788,5.58116,5.58352,5.5858799999999995,5.58824,5.5906,5.59296,5.59532,5.5976799999999995,5.60004,5.602399999999999,5.60476,5.60712,5.60948,5.61184,5.614199999999999,5.61656,5.61892,5.62128,5.62364,5.6259999999999994,5.62836,5.63072,5.63308,5.63544,5.6377999999999995,5.64016,5.64252,5.64488,5.64724,5.6495999999999995,5.65196,5.65432,5.65668,5.65904,5.6613999999999995,5.66376,5.666119999999999,5.66848,5.67084,5.6732,5.67556,5.677919999999999,5.68028,5.68264,5.685,5.68736,5.6897199999999994,5.69208,5.69444,5.6968,5.69916,5.7015199999999995,5.70388,5.70624,5.7086,5.71096,5.7133199999999995,5.71568,5.71804,5.7204,5.72276,5.7251199999999995,5.72748,5.729839999999999,5.7322,5.73456,5.73692,5.73928,5.74164,5.744,5.74636,5.74872,5.75108,5.753439999999999,5.7558,5.75816,5.76052,5.76288,5.7652399999999995,5.7676,5.76996,5.77232,5.77468,5.7770399999999995,5.7794,5.78176,5.78412,5.78648,5.7888399999999995,5.7912,5.79356,5.79592,5.79828,5.80064,5.803,5.80536,5.80772,5.81008,5.81244,5.8148,5.817159999999999,5.81952,5.82188,5.82424,5.8266,5.8289599999999995,5.83132,5.83368,5.83604,5.8384,5.8407599999999995,5.84312,5.84548,5.84784,5.8502,5.8525599999999995,5.85492,5.85728,5.85964,5.862,5.86436,5.86672,5.86908,5.87144,5.8738,5.87616,5.87852,5.880879999999999,5.88324,5.8856,5.88796,5.89032,5.89268,5.89504,5.8974,5.89976,5.90212,5.9044799999999995,5.90684,5.9092,5.91156,5.91392,5.91628,5.91864,5.921,5.92336,5.92572,5.92808,5.93044,5.9328,5.93516,5.93752,5.9398800000000005,5.94224,5.944599999999999,5.94696,5.94932,5.95168,5.95404,5.9564,5.95876,5.96112,5.96348,5.96584,5.9681999999999995,5.97056,5.97292,5.97528,5.97764,5.98,5.98236,5.98472,5.98708,5.98944,5.9918,5.99416,5.99652,5.99888,6.00124,6.0036000000000005,6.00596,6.00832,6.01068,6.01304,6.0154,6.01776,6.02012,6.02248,6.02484,6.0272,6.02956,6.0319199999999995,6.03428,6.03664,6.039,6.04136,6.04372,6.04608,6.04844,6.0508,6.05316,6.05552,6.05788,6.06024,6.0626,6.06496,6.0673200000000005,6.06968,6.07204,6.0744,6.07676,6.07912,6.08148,6.08384,6.0862,6.08856,6.090920000000001,6.09328,6.09564,6.098,6.10036,6.10272,6.10508,6.10744,6.1098,6.11216,6.11452,6.11688,6.11924,6.1216,6.12396,6.12632,6.12868,6.1310400000000005,6.1334,6.13576,6.13812,6.14048,6.14284,6.1452,6.14756,6.14992,6.15228,6.1546400000000006,6.157,6.15936,6.16172,6.16408,6.16644,6.1688,6.17116,6.17352,6.17588,6.17824,6.1806,6.18296,6.18532,6.18768,6.19004,6.1924,6.1947600000000005,6.19712,6.19948,6.20184,6.2042,6.20656,6.20892,6.21128,6.21364,6.216,6.2183600000000006,6.22072,6.22308,6.22544,6.2278,6.23016,6.23252,6.23488,6.23724,6.2396,6.241960000000001,6.24432,6.2466800000000005,6.24904,6.2514,6.25376,6.25612,6.2584800000000005,6.26084,6.2632,6.26556,6.26792,6.27028,6.27264,6.275,6.27736,6.27972,6.2820800000000006,6.28444,6.2868,6.28916,6.29152,6.29388,6.29624,6.2986,6.30096,6.30332,6.305680000000001,6.30804,6.3104000000000005,6.31276,6.31512,6.31748,6.31984,6.3222000000000005,6.32456,6.32692,6.32928,6.33164,6.3340000000000005,6.33636,6.33872,6.34108,6.34344,6.3458000000000006,6.34816,6.35052,6.35288,6.35524,6.3576,6.35996,6.36232,6.36468,6.36704,6.369400000000001,6.37176,6.3741200000000005,6.37648,6.37884,6.3812,6.38356,6.3859200000000005,6.38828,6.39064,6.393000000000001,6.39536,6.39772,6.40008,6.40244,6.4048,6.40716,6.4095200000000006,6.41188,6.41424,6.416600000000001,6.41896,6.421320000000001,6.42368,6.42604,6.4284,6.43076,6.433120000000001,6.43548,6.4378400000000005,6.4402,6.44256,6.44492,6.44728,6.4496400000000005,6.452,6.45436,6.456720000000001,6.45908,6.4614400000000005,6.4638,6.46616,6.46852,6.47088,6.4732400000000005,6.4756,6.47796,6.480320000000001,6.48268,6.485040000000001,6.4874,6.48976,6.49212,6.49448,6.496840000000001,6.4992,6.5015600000000004,6.50392,6.50628,6.50864,6.511,6.5133600000000005,6.51572,6.51808,6.520440000000001,6.5228,6.5251600000000005,6.527520000000001,6.52988,6.53224,6.5346,6.5369600000000005,6.53932,6.54168,6.544040000000001,6.5464,6.548760000000001,6.55112,6.55348,6.55584,6.5582,6.560560000000001,6.56292,6.5652800000000004,6.56764],\"xaxis\":\"x\",\"y\":[0.2230123912931017,0.2254265467635715,0.22784190481222638,0.23025829494153768,0.23267555445182064,0.23509352837757258,0.2375120694054575,0.23993103777420788,0.24235030115665707,0.2447697345242312,0.24718921999425156,0.249608646660427,0.2520279104070182,0.25444691370712585,0.25686556540566124,0.2592837804875701,0.26170147983193265,0.26411858995260096,0.26653504272608014,0.268950775107392,0.27136572883470417,0.2737798501235382,0.27619308935140874,0.27860540073377454,0.28101674199221544,0.28342707401577827,0.28583636051645783,0.28824456767980833,0.29065166381169905,0.2930576189822501,0.29546240466800106,0.29786599339337977,0.3002683583725522,0.30266947315274595,0.30506931126013703,0.3074678458494243,0.3098650493581639,0.31226089316699956,0.31465534726687533,0.317048379934322,0.31943995741592907,0.3218300436230341,0.32421859983774776,0.326605584431306,0.3289909525958079,0.33137465609034633,0.3337566430024712,0.3361368575259986,0.33851523975602055,0.3408917255020673,0.3432662461202363,0.3456387283651133,0.3480090942622942,0.3503772610021934,0.3527431408558967,0.35510664111364054,0.35746766404658287,0.35982610689237693,0.3621818618650533,0.36453481618969547,0.3668848521622476,0.3692318472348527,0.37157567412696185,0.37391620096246414,0.376253291433003,0.3785868049875679,0.3809165970484457,0.38324251925348296,0.38556441972460614,0.38788214336245835,0.3901955321669555,0.39250442558350224,0.39480866087454786,0.3971080735160983,0.3994024976187411,0.4016917663726785,0.4039757125162014,0.40625416882698373,0.40852696863550975,0.4107939463598958,0.41305493806130833,0.4153097820191192,0.4175583193249113,0.41980039449433937,0.42203585609587024,0.42426455739532276,0.42648635701509774,0.42870111960696494,0.4309087165371684,0.43310902658266326,0.43530193663715233,0.43748734242564236,0.43966514922614847,0.4418352725971619,0.443997639109482,0.4461521870809288,0.44829886731252083,0.45043764382456725,0.4525684945911993,0.45469141227180476,0.4568064049377854,0.45891349679313187,0.46101272888718753,0.4631041598180746,0.46518786642517196,0.46726394446905983,0.46933250929738207,0.47139369649499896,0.4734476625169108,0.47549458530235045,0.4775346648685186,0.4795681238824241,0.4815952082092968,0.48361618743610846,0.48563135536869667,0.48764103050106233,0.48964555645541824,0.4916453023915985,0.4936406633844795,0.49563206076807853,0.49761994244507524,0.49960478316049056,0.5015870847383398,0.5035673762801048,0.5055462143239224,0.5075241829634323,0.5095018939252849,0.5114799866043556,0.5134591280557796,0.5154400129429659,0.5174233634408163,0.5194099290934391,0.5214004866257009,0.5233958397080354,0.5253968186739857,0.5274042801900253,0.5294191068772923,0.5314422068848929,0.5334745134145662,0.5355169841965237,0.5375706009163717,0.539636368593116,0.5417153149082696,0.5438084894862478,0.5459169631262143,0.5480418269857029,0.5501841917163707,0.5523451865523231,0.5545259583515688,0.5567276705911617,0.5589515023167743,0.5611986470474319,0.5634703116362564,0.5657677150881817,0.5680920873355919,0.570444667973031,0.5728267049520817,0.5752394532377209,0.5776841734274183,0.5801621303344022,0.5826745915365603,0.5852228258924971,0.5878081020264081,0.590431686783414,0.5930948436571435,0.5957988311913768,0.5985449013576518,0.6013342979107813,0.604168254724308,0.607047994107975,0.6099747251093487,0.6129496418017861,0.6159739215609964,0.6190487233324868,0.6221751858922409,0.62535442610301,0.6285875371686511,0.6318755868889732,0.6352196159175867,0.6386206360252953,0.6420796283715794,0.645597541786749,0.6491752910673727,0.6528137552875877,0.6565137761289128,0.6602761562312227,0.6641016575674655,0.6679909998448069,0.671944858934797,0.6759638653351685,0.6800486026659068,0.6841996062020856,0.6884173614461286,0.6927023027419128,0.6970548119332656,0.7014752170693022,0.7059637911589375,0.7105207509770324,0.715146255924347,0.7198404069436528,0.7246032454941064,0.729434752585977,0.7343348478778509,0.7393033888381226,0.7443401699727801,0.7494449221211603,0.7546173118214128,0.7598569407472596,0.7651633452174983,0.770535995779722,0.7759742968694067,0.7814775865456643,0.7870451363046016,0.7926761509712723,0.7983697686710108,0.804125060880826,0.8099410325614157,0.8158166223702146,0.8217507029557717,0.8277420813336124,0.833789499343594,0.8398916341886474,0.8460470990546393,0.8522544438109572,0.8585121557912674,0.8648186606538169,0.8711723233203654,0.8775714489928867,0.884014284246878,0.8904990182000615,0.8970237837551064,0.9035866589148336,0.9101856681683289,0.9168187839460911,0.923483928142387,0.9301789737027978,0.9369017462747135,0.9436500259186217,0.950421548877716,0.9572140094034256,0.9640250616341538,0.9708523215246192,0.9776933688230015,0.9845457490929097,0.9914069757773639,0.9982745323015602,1.005145874211481,1.0120184313450027,1.0188896100323475,1.0257567953225901,1.032617353232764,1.039468633016324,1.0463079694474322,1.0531326851176772,1.059940092741769,1.0667274974686738,1.073492199194836,1.0802314948758511,1.086942680833298,1.0936230550531665,1.1002699194725276,1.1068805822510583,1.113452360024077,1.1199825801338095,1.1264685828356527,1.132907723476269,1.139297374640415,1.1456349282634812,1.1519177977068138,1.158143419792963,1.1643092567981115,1.170412798399035,1.1764515635720527,1.1824231024415315,1.1883249980756478,1.1941548682272012,1.1999103670174271,1.2055891865608799,1.2111890585295648,1.2167077556547192,1.2221430931646322,1.227492930157218,1.2327551709060551,1.2379277660988357,1.2430087140072796,1.247996061587721,1.2528879055117788,1.2576823931265464,1.2623777233440425,1.2669721474597189,1.2714639698999395,1.2758515488986417,1.2801332971033177,1.2843076821108361,1.2883732269335366,1.2923285103963476,1.2961721674657274,1.2999028895113232,1.3035194245014872,1.3070205771337906,1.3104052089018583,1.31367223809996,1.3168206397668423,1.3198494455705072,1.3227577436355658,1.3255446783150786,1.3282094499087056,1.3307513143291918,1.3331695827192198,1.3354636210207254,1.3376328494988925,1.3396767422229856,1.341594826506346,1.343386682307804,1.3450519415968725,1.346590287685055,1.3480014545256458,1.3492852259844008,1.350441435083455,1.3514699632208649,1.3523707393681357,1.3531437392480778,1.3537889844953137,1.35430654180172,1.3546965220490563,1.3549590794309903,1.3550944105666678,1.3551027536079416,1.3549843873422929,1.3547396302934318,1.3543688398214693,1.3538724112245244,1.353250776843488,1.352504405171635,1.351633799970689,1.3506394993948025,1.3495220751239003,1.348282131507676,1.3469203047214733,1.3454372619351778,1.3438337004961263,1.3421103471269817,1.3402679571393812,1.338307313664076,1.3362292268982139,1.334034533370241,1.331724095222903,1.3292987995146057,1.3267595575394304,1.3241073041658764,1.3213429971944086,1.3184676167337586,1.3154821645958104,1.3123876637088767,1.3091851575490592,1.3058757095892846,1.3024604027655886,1.2989403389600895,1.2953166385000963,1.291590439672632,1.2877628982537237,1.2838351870516453,1.279808495463306,1.27568402904294,1.2714630090821675,1.267146672200525,1.2627362699454834,1.2582330684009695,1.2536383478033986,1.2489534021641895,1.244179538897743,1.239318078453852,1.234370353953519,1.229337710827166,1.224221506454214,1.2190231098030586,1.2137439010704612,1.2083852713194052,1.2029486221145174,1.1974353651541632,1.191846921898343,1.1861847231916676,1.1804502088805369,1.174644827423928,1.1687700354970463,1.162827297587277,1.156818085581894,1.1507438783469675,1.144606161297173,1.138406425955978,1.1321461695060049,1.12582689432934,1.1194501075375054,1.1130173204911509,1.106530048309254,1.0999898093680234,1.0933981247894589,1.0867565179198124,1.0800665137981929,1.0733296386154976,1.0665474191641904,1.0597213822791791,1.052853054270405,1.0459439603476017,1.0389956240378384,1.0320095665965414,1.0249873064125932,1.017930358408368,1.0108402334354298,1.0037184376667458,0.9965664719863124,0.9893858313770567,0.9821780043080505,0.9749444721218847,0.9676867084233223,0.9604061784701807,0.9531043385675121,0.9457826354661182,0.9384425057664785,0.9310853753291479,0.9237126586927031,0.9163257585002987,0.9089260649359071,0.9015149551712831,0.8940937928247046,0.8866639274325,0.8792266939343936,0.8717834121735732,0.8643353864125484,0.8568839048655964,0.849430239248756,0.8419756443481873,0.8345213576077046,0.8270685987362679,0.819618569336076,0.8121724525520669,0.8047314127432783,0.7972965951767469,0.789869125744459,0.7824501107036865,0.7750406364412921,0.7676417692621368,0.7602545552020683,0.7528800198655303,0.7455191682880564,0.738172984823749,0.7308424330576544,0.7235284557431926,0.7162319747643375,0.7089538911226093,0.7016950849484679,0.6944564155369638,0.6872387214072986,0.6800428203858159,0.6728695097120898,0.6657195661675365,0.6585937462260195,0.651492786225841,0.6444174025624422,0.6373682919011803,0.6303461314093167,0.62335157900655,0.6163852736331852,0.6094478355351095,0.6025398665646615,0.5956619504964679,0.5888146533572864,0.5819985237688732,0.5752140933028604,0.5684618768466266,0.5617423729791101,0.5550560643555109,0.5484034180998195,0.5417848862040916,0.5352009059334012,0.5286519002353897,0.5221382781533369,0.5156604352416881,0.5092187539829743,0.5028136042050727,0.49644534349779684,0.4901143176277336,0.4838208609504467,0.47756529681893034,0.4713479379874677,0.46516908700994475,0.4590290366316918,0.45292807017404685,0.4468664619107392,0.4408444774354135,0.43486237401940775,0.4289204009591652,0.4230187999126005,0.41715780522369966,0.411337644234913,0.40555853758662647,0.39982069950338506,0.3941243380662625,0.3884696554710678,0.382856848272026],\"yaxis\":\"y\",\"type\":\"scatter\"},{\"legendgroup\":\"student marks\",\"marker\":{\"color\":\"rgb(31, 119, 180)\",\"symbol\":\"line-ns-open\"},\"mode\":\"markers\",\"name\":\"student marks\",\"showlegend\":false,\"x\":[6.27,6.12,6.04,6.47,6.1,6.31,5.77,6.57,5.62,6.05,6.36,5.66,6.01,6.26,6.25,6.31,6.23,6.07,6.33,6.11,5.39,5.48,5.85,6.19,6.15,5.87,6.48,5.7,6.03,6.06],\"xaxis\":\"x\",\"y\":[\"student marks\",\"student marks\",\"student marks\",\"student marks\",\"student marks\",\"student marks\",\"student marks\",\"student marks\",\"student marks\",\"student marks\",\"student marks\",\"student marks\",\"student marks\",\"student marks\",\"student marks\",\"student marks\",\"student marks\",\"student marks\",\"student marks\",\"student marks\",\"student marks\",\"student marks\",\"student marks\",\"student marks\",\"student marks\",\"student marks\",\"student marks\",\"student marks\",\"student marks\",\"student marks\"],\"yaxis\":\"y2\",\"type\":\"scatter\"},{\"mode\":\"lines\",\"name\":\"MEAN\",\"x\":[6.070333333333333,6.070333333333333],\"y\":[0,0.17],\"type\":\"scatter\"},{\"mode\":\"lines\",\"name\":\"MEAN\",\"x\":[5.776259880940399,5.776259880940399],\"y\":[0,0.17],\"type\":\"scatter\"},{\"mode\":\"lines\",\"name\":\"MEAN\",\"x\":[6.364406785726267,6.364406785726267],\"y\":[0,0.17],\"type\":\"scatter\"},{\"mode\":\"lines\",\"name\":\"MEAN\",\"x\":[5.482186428547466,5.482186428547466],\"y\":[0,0.17],\"type\":\"scatter\"},{\"mode\":\"lines\",\"name\":\"MEAN\",\"x\":[6.6584802381192,6.6584802381192],\"y\":[0,0.17],\"type\":\"scatter\"},{\"mode\":\"lines\",\"name\":\"MEAN\",\"x\":[5.1881129761545335,5.1881129761545335],\"y\":[0,0.17],\"type\":\"scatter\"},{\"mode\":\"lines\",\"name\":\"MEAN\",\"x\":[6.952553690512133,6.952553690512133],\"y\":[0,0.17],\"type\":\"scatter\"}],                        {\"barmode\":\"overlay\",\"hovermode\":\"closest\",\"legend\":{\"traceorder\":\"reversed\"},\"xaxis\":{\"anchor\":\"y2\",\"domain\":[0.0,1.0],\"zeroline\":false},\"yaxis\":{\"anchor\":\"free\",\"domain\":[0.35,1],\"position\":0.0},\"yaxis2\":{\"anchor\":\"x\",\"domain\":[0,0.25],\"dtick\":1,\"showticklabels\":false},\"template\":{\"data\":{\"histogram2dcontour\":[{\"type\":\"histogram2dcontour\",\"colorbar\":{\"outlinewidth\":0,\"ticks\":\"\"},\"colorscale\":[[0.0,\"#0d0887\"],[0.1111111111111111,\"#46039f\"],[0.2222222222222222,\"#7201a8\"],[0.3333333333333333,\"#9c179e\"],[0.4444444444444444,\"#bd3786\"],[0.5555555555555556,\"#d8576b\"],[0.6666666666666666,\"#ed7953\"],[0.7777777777777778,\"#fb9f3a\"],[0.8888888888888888,\"#fdca26\"],[1.0,\"#f0f921\"]]}],\"choropleth\":[{\"type\":\"choropleth\",\"colorbar\":{\"outlinewidth\":0,\"ticks\":\"\"}}],\"histogram2d\":[{\"type\":\"histogram2d\",\"colorbar\":{\"outlinewidth\":0,\"ticks\":\"\"},\"colorscale\":[[0.0,\"#0d0887\"],[0.1111111111111111,\"#46039f\"],[0.2222222222222222,\"#7201a8\"],[0.3333333333333333,\"#9c179e\"],[0.4444444444444444,\"#bd3786\"],[0.5555555555555556,\"#d8576b\"],[0.6666666666666666,\"#ed7953\"],[0.7777777777777778,\"#fb9f3a\"],[0.8888888888888888,\"#fdca26\"],[1.0,\"#f0f921\"]]}],\"heatmap\":[{\"type\":\"heatmap\",\"colorbar\":{\"outlinewidth\":0,\"ticks\":\"\"},\"colorscale\":[[0.0,\"#0d0887\"],[0.1111111111111111,\"#46039f\"],[0.2222222222222222,\"#7201a8\"],[0.3333333333333333,\"#9c179e\"],[0.4444444444444444,\"#bd3786\"],[0.5555555555555556,\"#d8576b\"],[0.6666666666666666,\"#ed7953\"],[0.7777777777777778,\"#fb9f3a\"],[0.8888888888888888,\"#fdca26\"],[1.0,\"#f0f921\"]]}],\"heatmapgl\":[{\"type\":\"heatmapgl\",\"colorbar\":{\"outlinewidth\":0,\"ticks\":\"\"},\"colorscale\":[[0.0,\"#0d0887\"],[0.1111111111111111,\"#46039f\"],[0.2222222222222222,\"#7201a8\"],[0.3333333333333333,\"#9c179e\"],[0.4444444444444444,\"#bd3786\"],[0.5555555555555556,\"#d8576b\"],[0.6666666666666666,\"#ed7953\"],[0.7777777777777778,\"#fb9f3a\"],[0.8888888888888888,\"#fdca26\"],[1.0,\"#f0f921\"]]}],\"contourcarpet\":[{\"type\":\"contourcarpet\",\"colorbar\":{\"outlinewidth\":0,\"ticks\":\"\"}}],\"contour\":[{\"type\":\"contour\",\"colorbar\":{\"outlinewidth\":0,\"ticks\":\"\"},\"colorscale\":[[0.0,\"#0d0887\"],[0.1111111111111111,\"#46039f\"],[0.2222222222222222,\"#7201a8\"],[0.3333333333333333,\"#9c179e\"],[0.4444444444444444,\"#bd3786\"],[0.5555555555555556,\"#d8576b\"],[0.6666666666666666,\"#ed7953\"],[0.7777777777777778,\"#fb9f3a\"],[0.8888888888888888,\"#fdca26\"],[1.0,\"#f0f921\"]]}],\"surface\":[{\"type\":\"surface\",\"colorbar\":{\"outlinewidth\":0,\"ticks\":\"\"},\"colorscale\":[[0.0,\"#0d0887\"],[0.1111111111111111,\"#46039f\"],[0.2222222222222222,\"#7201a8\"],[0.3333333333333333,\"#9c179e\"],[0.4444444444444444,\"#bd3786\"],[0.5555555555555556,\"#d8576b\"],[0.6666666666666666,\"#ed7953\"],[0.7777777777777778,\"#fb9f3a\"],[0.8888888888888888,\"#fdca26\"],[1.0,\"#f0f921\"]]}],\"mesh3d\":[{\"type\":\"mesh3d\",\"colorbar\":{\"outlinewidth\":0,\"ticks\":\"\"}}],\"scatter\":[{\"fillpattern\":{\"fillmode\":\"overlay\",\"size\":10,\"solidity\":0.2},\"type\":\"scatter\"}],\"parcoords\":[{\"type\":\"parcoords\",\"line\":{\"colorbar\":{\"outlinewidth\":0,\"ticks\":\"\"}}}],\"scatterpolargl\":[{\"type\":\"scatterpolargl\",\"marker\":{\"colorbar\":{\"outlinewidth\":0,\"ticks\":\"\"}}}],\"bar\":[{\"error_x\":{\"color\":\"#2a3f5f\"},\"error_y\":{\"color\":\"#2a3f5f\"},\"marker\":{\"line\":{\"color\":\"#E5ECF6\",\"width\":0.5},\"pattern\":{\"fillmode\":\"overlay\",\"size\":10,\"solidity\":0.2}},\"type\":\"bar\"}],\"scattergeo\":[{\"type\":\"scattergeo\",\"marker\":{\"colorbar\":{\"outlinewidth\":0,\"ticks\":\"\"}}}],\"scatterpolar\":[{\"type\":\"scatterpolar\",\"marker\":{\"colorbar\":{\"outlinewidth\":0,\"ticks\":\"\"}}}],\"histogram\":[{\"marker\":{\"pattern\":{\"fillmode\":\"overlay\",\"size\":10,\"solidity\":0.2}},\"type\":\"histogram\"}],\"scattergl\":[{\"type\":\"scattergl\",\"marker\":{\"colorbar\":{\"outlinewidth\":0,\"ticks\":\"\"}}}],\"scatter3d\":[{\"type\":\"scatter3d\",\"line\":{\"colorbar\":{\"outlinewidth\":0,\"ticks\":\"\"}},\"marker\":{\"colorbar\":{\"outlinewidth\":0,\"ticks\":\"\"}}}],\"scattermapbox\":[{\"type\":\"scattermapbox\",\"marker\":{\"colorbar\":{\"outlinewidth\":0,\"ticks\":\"\"}}}],\"scatterternary\":[{\"type\":\"scatterternary\",\"marker\":{\"colorbar\":{\"outlinewidth\":0,\"ticks\":\"\"}}}],\"scattercarpet\":[{\"type\":\"scattercarpet\",\"marker\":{\"colorbar\":{\"outlinewidth\":0,\"ticks\":\"\"}}}],\"carpet\":[{\"aaxis\":{\"endlinecolor\":\"#2a3f5f\",\"gridcolor\":\"white\",\"linecolor\":\"white\",\"minorgridcolor\":\"white\",\"startlinecolor\":\"#2a3f5f\"},\"baxis\":{\"endlinecolor\":\"#2a3f5f\",\"gridcolor\":\"white\",\"linecolor\":\"white\",\"minorgridcolor\":\"white\",\"startlinecolor\":\"#2a3f5f\"},\"type\":\"carpet\"}],\"table\":[{\"cells\":{\"fill\":{\"color\":\"#EBF0F8\"},\"line\":{\"color\":\"white\"}},\"header\":{\"fill\":{\"color\":\"#C8D4E3\"},\"line\":{\"color\":\"white\"}},\"type\":\"table\"}],\"barpolar\":[{\"marker\":{\"line\":{\"color\":\"#E5ECF6\",\"width\":0.5},\"pattern\":{\"fillmode\":\"overlay\",\"size\":10,\"solidity\":0.2}},\"type\":\"barpolar\"}],\"pie\":[{\"automargin\":true,\"type\":\"pie\"}]},\"layout\":{\"autotypenumbers\":\"strict\",\"colorway\":[\"#636efa\",\"#EF553B\",\"#00cc96\",\"#ab63fa\",\"#FFA15A\",\"#19d3f3\",\"#FF6692\",\"#B6E880\",\"#FF97FF\",\"#FECB52\"],\"font\":{\"color\":\"#2a3f5f\"},\"hovermode\":\"closest\",\"hoverlabel\":{\"align\":\"left\"},\"paper_bgcolor\":\"white\",\"plot_bgcolor\":\"#E5ECF6\",\"polar\":{\"bgcolor\":\"#E5ECF6\",\"angularaxis\":{\"gridcolor\":\"white\",\"linecolor\":\"white\",\"ticks\":\"\"},\"radialaxis\":{\"gridcolor\":\"white\",\"linecolor\":\"white\",\"ticks\":\"\"}},\"ternary\":{\"bgcolor\":\"#E5ECF6\",\"aaxis\":{\"gridcolor\":\"white\",\"linecolor\":\"white\",\"ticks\":\"\"},\"baxis\":{\"gridcolor\":\"white\",\"linecolor\":\"white\",\"ticks\":\"\"},\"caxis\":{\"gridcolor\":\"white\",\"linecolor\":\"white\",\"ticks\":\"\"}},\"coloraxis\":{\"colorbar\":{\"outlinewidth\":0,\"ticks\":\"\"}},\"colorscale\":{\"sequential\":[[0.0,\"#0d0887\"],[0.1111111111111111,\"#46039f\"],[0.2222222222222222,\"#7201a8\"],[0.3333333333333333,\"#9c179e\"],[0.4444444444444444,\"#bd3786\"],[0.5555555555555556,\"#d8576b\"],[0.6666666666666666,\"#ed7953\"],[0.7777777777777778,\"#fb9f3a\"],[0.8888888888888888,\"#fdca26\"],[1.0,\"#f0f921\"]],\"sequentialminus\":[[0.0,\"#0d0887\"],[0.1111111111111111,\"#46039f\"],[0.2222222222222222,\"#7201a8\"],[0.3333333333333333,\"#9c179e\"],[0.4444444444444444,\"#bd3786\"],[0.5555555555555556,\"#d8576b\"],[0.6666666666666666,\"#ed7953\"],[0.7777777777777778,\"#fb9f3a\"],[0.8888888888888888,\"#fdca26\"],[1.0,\"#f0f921\"]],\"diverging\":[[0,\"#8e0152\"],[0.1,\"#c51b7d\"],[0.2,\"#de77ae\"],[0.3,\"#f1b6da\"],[0.4,\"#fde0ef\"],[0.5,\"#f7f7f7\"],[0.6,\"#e6f5d0\"],[0.7,\"#b8e186\"],[0.8,\"#7fbc41\"],[0.9,\"#4d9221\"],[1,\"#276419\"]]},\"xaxis\":{\"gridcolor\":\"white\",\"linecolor\":\"white\",\"ticks\":\"\",\"title\":{\"standoff\":15},\"zerolinecolor\":\"white\",\"automargin\":true,\"zerolinewidth\":2},\"yaxis\":{\"gridcolor\":\"white\",\"linecolor\":\"white\",\"ticks\":\"\",\"title\":{\"standoff\":15},\"zerolinecolor\":\"white\",\"automargin\":true,\"zerolinewidth\":2},\"scene\":{\"xaxis\":{\"backgroundcolor\":\"#E5ECF6\",\"gridcolor\":\"white\",\"linecolor\":\"white\",\"showbackground\":true,\"ticks\":\"\",\"zerolinecolor\":\"white\",\"gridwidth\":2},\"yaxis\":{\"backgroundcolor\":\"#E5ECF6\",\"gridcolor\":\"white\",\"linecolor\":\"white\",\"showbackground\":true,\"ticks\":\"\",\"zerolinecolor\":\"white\",\"gridwidth\":2},\"zaxis\":{\"backgroundcolor\":\"#E5ECF6\",\"gridcolor\":\"white\",\"linecolor\":\"white\",\"showbackground\":true,\"ticks\":\"\",\"zerolinecolor\":\"white\",\"gridwidth\":2}},\"shapedefaults\":{\"line\":{\"color\":\"#2a3f5f\"}},\"annotationdefaults\":{\"arrowcolor\":\"#2a3f5f\",\"arrowhead\":0,\"arrowwidth\":1},\"geo\":{\"bgcolor\":\"white\",\"landcolor\":\"#E5ECF6\",\"subunitcolor\":\"white\",\"showland\":true,\"showlakes\":true,\"lakecolor\":\"white\"},\"title\":{\"x\":0.05},\"mapbox\":{\"style\":\"light\"}}}},                        {\"responsive\": true}                    ).then(function(){\n",
              "                            \n",
              "var gd = document.getElementById('a43d7934-89fc-41a0-833d-cd7f701ec42e');\n",
              "var x = new MutationObserver(function (mutations, observer) {{\n",
              "        var display = window.getComputedStyle(gd).display;\n",
              "        if (!display || display === 'none') {{\n",
              "            console.log([gd, 'removed!']);\n",
              "            Plotly.purge(gd);\n",
              "            observer.disconnect();\n",
              "        }}\n",
              "}});\n",
              "\n",
              "// Listen for the removal of the full notebook cells\n",
              "var notebookContainer = gd.closest('#notebook-container');\n",
              "if (notebookContainer) {{\n",
              "    x.observe(notebookContainer, {childList: true});\n",
              "}}\n",
              "\n",
              "// Listen for the clearing of the current output cell\n",
              "var outputEl = gd.closest('.output');\n",
              "if (outputEl) {{\n",
              "    x.observe(outputEl, {childList: true});\n",
              "}}\n",
              "\n",
              "                        })                };                            </script>        </div>\n",
              "</body>\n",
              "</html>"
            ]
          },
          "metadata": {}
        }
      ]
    },
    {
      "cell_type": "code",
      "source": [
        "mean_of_sample1 = statistics.mean(data)\n",
        "print(\"Mean of sample1:- \",mean_of_sample1)"
      ],
      "metadata": {
        "id": "Jp0KTf7tvzz5",
        "colab": {
          "base_uri": "https://localhost:8080/"
        },
        "outputId": "c82dd3f8-ce48-4da7-b5ba-afd4fb90437a"
      },
      "execution_count": 8,
      "outputs": [
        {
          "output_type": "stream",
          "name": "stdout",
          "text": [
            "Mean of sample1:-  6.134910878918254\n"
          ]
        }
      ]
    },
    {
      "cell_type": "code",
      "source": [
        "#finding the z score using the formula\n",
        "z_score=(mean_of_sample1-mean)/std_deviation\n",
        "print(\"The z score is=\",z_score)"
      ],
      "metadata": {
        "colab": {
          "base_uri": "https://localhost:8080/"
        },
        "id": "WB3_2QxAYZqO",
        "outputId": "1ca29181-a90d-46e5-9d07-c55c2dd779cd"
      },
      "execution_count": 9,
      "outputs": [
        {
          "output_type": "stream",
          "name": "stdout",
          "text": [
            "The z score is= 0.21959665199099399\n"
          ]
        }
      ]
    }
  ]
}